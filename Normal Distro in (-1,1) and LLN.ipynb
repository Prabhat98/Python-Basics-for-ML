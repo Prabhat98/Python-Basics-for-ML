{
 "cells": [
  {
   "cell_type": "code",
   "execution_count": 371,
   "metadata": {},
   "outputs": [
    {
     "name": "stdout",
     "output_type": "stream",
     "text": [
      "The number of 10000000 samples in -1 to +1 is 6824978 and the count is 10000000\n",
      "The required percentage is 68.24978 for 10000000 samples\n"
     ]
    }
   ],
   "source": [
    "import numpy as np\n",
    "from numpy.random import randn\n",
    "count = 0\n",
    "point = 0\n",
    "# As we increase the range our percentage reaches close to 68.2% as expected in normal distribution for -1 to +1\n",
    "for i in range(100000):\n",
    "    x = randn()\n",
    "    count = count + 1\n",
    "    if x <= 1 and x >= -1:\n",
    "        point = point + 1 \n",
    "print(\"The number of\", count, \"samples in -1 to +1 is\", point, \"and the count is\", count)\n",
    "precentage = (point/count)\n",
    "print(\"The required percentage is\", precentage*100, \"for\", count, \"samples\")\n"
   ]
  }
 ],
 "metadata": {
  "kernelspec": {
   "display_name": "Python 3",
   "language": "python",
   "name": "python3"
  },
  "language_info": {
   "codemirror_mode": {
    "name": "ipython",
    "version": 3
   },
   "file_extension": ".py",
   "mimetype": "text/x-python",
   "name": "python",
   "nbconvert_exporter": "python",
   "pygments_lexer": "ipython3",
   "version": "3.6.5"
  }
 },
 "nbformat": 4,
 "nbformat_minor": 2
}
