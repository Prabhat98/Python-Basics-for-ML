{
 "cells": [
  {
   "cell_type": "code",
   "execution_count": 1,
   "metadata": {},
   "outputs": [],
   "source": [
    "#Data \n",
    "revenue = [14574.49, 7606.46, 8611.41, 9175.41, 8058.65, 8105.44, 11496.28, 9766.09, 10305.32, 14379.96, 10713.97, 15433.50]\n",
    "expenses = [12051.82, 5695.07, 12319.20, 12089.72, 8658.57, 840.20, 3285.73, 5821.12, 6976.93, 16618.61, 10054.37, 3803.96]"
   ]
  },
  {
   "cell_type": "code",
   "execution_count": 37,
   "metadata": {},
   "outputs": [
    {
     "name": "stdout",
     "output_type": "stream",
     "text": [
      "Profit for each month \n",
      " [ 2522.67  1911.39 -3707.79 -2914.31  -599.92  7265.24  8210.55  3944.97\n",
      "  3328.39 -2238.65   659.6  11629.54]\n",
      "This is the remainig profit after tax \n",
      " [ 1765.87  1337.97 -2595.45 -2040.02  -419.94  5085.67  5747.38  2761.48\n",
      "  2329.87 -1567.06   461.72  8140.68]\n",
      "Profit margin \n",
      " [ 0.12  0.18 -0.3  -0.22 -0.05  0.63  0.5   0.28  0.23 -0.11  0.04  0.53]\n",
      "This is the mean of profit after taxes 1750.68\n",
      "Good month profits\n",
      "1765.87\n",
      "5085.67\n",
      "5747.38\n",
      "2761.48\n",
      "2329.87\n",
      "8140.68\n",
      "Bad month profits\n",
      "1337.97\n",
      "-2595.45\n",
      "-2040.02\n",
      "-419.94\n",
      "-1567.06\n",
      "461.72\n",
      "The best month is 8140.68\n",
      "The best month is -2595.45\n"
     ]
    }
   ],
   "source": [
    "import numpy as np\n",
    "rev = np.array(revenue)\n",
    "exp = np.array(expenses)\n",
    "\n",
    "profit = rev - exp\n",
    "print(\"Profit for each month \\n\", profit)\n",
    "\n",
    "tax = (profit*(0.3))\n",
    "profit_after_tax = profit - tax\n",
    "print(\"This is the remainig profit after tax \\n\", np.round(profit_after_tax, 2))\n",
    "#np.round rounds off the input to the places that is passed as the second argument\n",
    "\n",
    "profit_margin = (profit_after_tax/rev)\n",
    "print(\"Profit margin \\n\", np.round(profit_margin, 2))\n",
    "\n",
    "mean_profit_after_tax = (np.round(profit_after_tax, 2)).mean()\n",
    "print(\"This is the mean of profit after taxes\", np.round(mean_profit_after_tax, 2))\n",
    "print(\"Good month profits\")\n",
    "for i in np.round(profit_after_tax, 2):\n",
    "    if i > np.round(mean_profit_after_tax, 2):\n",
    "        print(i)\n",
    "print(\"Bad month profits\")\n",
    "for i in np.round(profit_after_tax, 2):\n",
    "    if i < np.round(mean_profit_after_tax, 2):\n",
    "        print(i)\n",
    "print(\"The best month is\", np.round(profit_after_tax, 2).max())\n",
    "print(\"The best month is\", np.round(profit_after_tax, 2).min())\n",
    "\n"
   ]
  }
 ],
 "metadata": {
  "kernelspec": {
   "display_name": "Python 3",
   "language": "python",
   "name": "python3"
  },
  "language_info": {
   "codemirror_mode": {
    "name": "ipython",
    "version": 3
   },
   "file_extension": ".py",
   "mimetype": "text/x-python",
   "name": "python",
   "nbconvert_exporter": "python",
   "pygments_lexer": "ipython3",
   "version": "3.6.5"
  }
 },
 "nbformat": 4,
 "nbformat_minor": 1
}
